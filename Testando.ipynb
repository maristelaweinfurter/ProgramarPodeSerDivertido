{
  "nbformat": 4,
  "nbformat_minor": 0,
  "metadata": {
    "colab": {
      "provenance": [],
      "authorship_tag": "ABX9TyOritJiPM0ID6P80PEKiIu/",
      "include_colab_link": true
    },
    "kernelspec": {
      "name": "python3",
      "display_name": "Python 3"
    },
    "language_info": {
      "name": "python"
    }
  },
  "cells": [
    {
      "cell_type": "markdown",
      "metadata": {
        "id": "view-in-github",
        "colab_type": "text"
      },
      "source": [
        "<a href=\"https://colab.research.google.com/github/maristelaweinfurter/ProgramarPodeSerDivertido/blob/master/Testando.ipynb\" target=\"_parent\"><img src=\"https://colab.research.google.com/assets/colab-badge.svg\" alt=\"Open In Colab\"/></a>"
      ]
    },
    {
      "cell_type": "code",
      "execution_count": null,
      "metadata": {
        "id": "zow6rOp-gNXJ",
        "colab": {
          "base_uri": "https://localhost:8080/"
        },
        "outputId": "19162616-141c-4955-f225-ea3fc7c6f0b0"
      },
      "outputs": [
        {
          "output_type": "stream",
          "name": "stdout",
          "text": [
            "Olá\n"
          ]
        }
      ],
      "source": [
        "print('Olá')"
      ]
    },
    {
      "cell_type": "markdown",
      "source": [
        "# Testando Texto\n",
        "\n",
        "\n",
        "\n",
        "```\n",
        "# Isto está formatado como código\n",
        "```\n"
      ],
      "metadata": {
        "id": "sgZ_s2ZXhZvn"
      }
    }
  ]
}